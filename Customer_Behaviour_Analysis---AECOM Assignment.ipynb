{
 "cells": [
  {
   "cell_type": "markdown",
   "id": "def3d3cc",
   "metadata": {},
   "source": [
    "# Customer_Behaviour_Analysis"
   ]
  },
  {
   "cell_type": "markdown",
   "id": "04d3e3e2",
   "metadata": {},
   "source": [
    "## Problem Statement:"
   ]
  },
  {
   "cell_type": "markdown",
   "id": "242ad88c",
   "metadata": {},
   "source": [
    "- This dataset has the purchases of a customer across different timescales and shopping baskets.\n",
    "- Here I'm trying to analyse it to profile the individual and identify key characteristics.\n"
   ]
  },
  {
   "cell_type": "markdown",
   "id": "ccd9360e",
   "metadata": {},
   "source": [
    "## Importing Libraries :"
   ]
  },
  {
   "cell_type": "code",
   "execution_count": 1,
   "id": "21aea465",
   "metadata": {},
   "outputs": [],
   "source": [
    "import pandas as pd\n",
    "import numpy as np\n",
    "import matplotlib.pyplot as plt\n",
    "import seaborn as sns"
   ]
  },
  {
   "cell_type": "markdown",
   "id": "d31ff534",
   "metadata": {},
   "source": [
    "## Loading the Dataset :"
   ]
  },
  {
   "cell_type": "code",
   "execution_count": 2,
   "id": "9565cc69",
   "metadata": {},
   "outputs": [],
   "source": [
    "data=pd.read_excel(\"Data Analyst Task.xlsx\")"
   ]
  },
  {
   "cell_type": "code",
   "execution_count": 3,
   "id": "e9e493be",
   "metadata": {},
   "outputs": [
    {
     "data": {
      "text/html": [
       "<div>\n",
       "<style scoped>\n",
       "    .dataframe tbody tr th:only-of-type {\n",
       "        vertical-align: middle;\n",
       "    }\n",
       "\n",
       "    .dataframe tbody tr th {\n",
       "        vertical-align: top;\n",
       "    }\n",
       "\n",
       "    .dataframe thead th {\n",
       "        text-align: right;\n",
       "    }\n",
       "</style>\n",
       "<table border=\"1\" class=\"dataframe\">\n",
       "  <thead>\n",
       "    <tr style=\"text-align: right;\">\n",
       "      <th></th>\n",
       "      <th>Purchase__basketValueGross</th>\n",
       "      <th>Purchase__purchaseType</th>\n",
       "      <th>Purchase__overallBasketSavings</th>\n",
       "      <th>Purchase__storeId</th>\n",
       "      <th>Purchase__paymentType__category</th>\n",
       "      <th>Purchase__paymentType__amount</th>\n",
       "      <th>Purchase__timeStamp</th>\n",
       "      <th>Purchase__basketValueNet</th>\n",
       "      <th>Purchase__says</th>\n",
       "      <th>Purchase__storeName</th>\n",
       "      <th>Purchase__storeFormat</th>\n",
       "      <th>Purchase__product__name</th>\n",
       "      <th>Purchase__product__quantity</th>\n",
       "      <th>Purchase__product__channel</th>\n",
       "      <th>Purchase__product__price</th>\n",
       "    </tr>\n",
       "  </thead>\n",
       "  <tbody>\n",
       "    <tr>\n",
       "      <th>0</th>\n",
       "      <td>79.03</td>\n",
       "      <td>IN_STORE</td>\n",
       "      <td>3.17</td>\n",
       "      <td>3189.0</td>\n",
       "      <td>NaN</td>\n",
       "      <td>75.86</td>\n",
       "      <td>2021-10-30 18:37:36.766</td>\n",
       "      <td>75.86</td>\n",
       "      <td>NaN</td>\n",
       "      <td>SOUTHWARK</td>\n",
       "      <td>SuperStore</td>\n",
       "      <td>Koko Dairy Free Unsweetened Alternative Longli...</td>\n",
       "      <td>5.0</td>\n",
       "      <td>IN_STORE</td>\n",
       "      <td>1.50</td>\n",
       "    </tr>\n",
       "    <tr>\n",
       "      <th>1</th>\n",
       "      <td>NaN</td>\n",
       "      <td>NaN</td>\n",
       "      <td>NaN</td>\n",
       "      <td>NaN</td>\n",
       "      <td>NaN</td>\n",
       "      <td>NaN</td>\n",
       "      <td>NaT</td>\n",
       "      <td>NaN</td>\n",
       "      <td>NaN</td>\n",
       "      <td>NaN</td>\n",
       "      <td>NaN</td>\n",
       "      <td>Tesco Bunched Spring Onions 100G</td>\n",
       "      <td>1.0</td>\n",
       "      <td>IN_STORE</td>\n",
       "      <td>0.37</td>\n",
       "    </tr>\n",
       "    <tr>\n",
       "      <th>2</th>\n",
       "      <td>NaN</td>\n",
       "      <td>NaN</td>\n",
       "      <td>NaN</td>\n",
       "      <td>NaN</td>\n",
       "      <td>NaN</td>\n",
       "      <td>NaN</td>\n",
       "      <td>NaT</td>\n",
       "      <td>NaN</td>\n",
       "      <td>NaN</td>\n",
       "      <td>NaN</td>\n",
       "      <td>NaN</td>\n",
       "      <td>Tesco Finest Cheesecake Passion Fruit &amp; Raspbe...</td>\n",
       "      <td>1.0</td>\n",
       "      <td>IN_STORE</td>\n",
       "      <td>4.00</td>\n",
       "    </tr>\n",
       "    <tr>\n",
       "      <th>3</th>\n",
       "      <td>NaN</td>\n",
       "      <td>NaN</td>\n",
       "      <td>NaN</td>\n",
       "      <td>NaN</td>\n",
       "      <td>NaN</td>\n",
       "      <td>NaN</td>\n",
       "      <td>NaT</td>\n",
       "      <td>NaN</td>\n",
       "      <td>NaN</td>\n",
       "      <td>NaN</td>\n",
       "      <td>NaN</td>\n",
       "      <td>Tesco Mixed Sized Organic Eggs 6 Pack</td>\n",
       "      <td>1.0</td>\n",
       "      <td>IN_STORE</td>\n",
       "      <td>1.80</td>\n",
       "    </tr>\n",
       "    <tr>\n",
       "      <th>4</th>\n",
       "      <td>NaN</td>\n",
       "      <td>NaN</td>\n",
       "      <td>NaN</td>\n",
       "      <td>NaN</td>\n",
       "      <td>NaN</td>\n",
       "      <td>NaN</td>\n",
       "      <td>NaT</td>\n",
       "      <td>NaN</td>\n",
       "      <td>NaN</td>\n",
       "      <td>NaN</td>\n",
       "      <td>NaN</td>\n",
       "      <td>Vanish Pet Expert Carpet Care Foam 600Ml</td>\n",
       "      <td>1.0</td>\n",
       "      <td>IN_STORE</td>\n",
       "      <td>6.00</td>\n",
       "    </tr>\n",
       "  </tbody>\n",
       "</table>\n",
       "</div>"
      ],
      "text/plain": [
       "  Purchase__basketValueGross Purchase__purchaseType  \\\n",
       "0                      79.03               IN_STORE   \n",
       "1                        NaN                    NaN   \n",
       "2                        NaN                    NaN   \n",
       "3                        NaN                    NaN   \n",
       "4                        NaN                    NaN   \n",
       "\n",
       "   Purchase__overallBasketSavings  Purchase__storeId  \\\n",
       "0                            3.17             3189.0   \n",
       "1                             NaN                NaN   \n",
       "2                             NaN                NaN   \n",
       "3                             NaN                NaN   \n",
       "4                             NaN                NaN   \n",
       "\n",
       "   Purchase__paymentType__category  Purchase__paymentType__amount  \\\n",
       "0                              NaN                          75.86   \n",
       "1                              NaN                            NaN   \n",
       "2                              NaN                            NaN   \n",
       "3                              NaN                            NaN   \n",
       "4                              NaN                            NaN   \n",
       "\n",
       "      Purchase__timeStamp  Purchase__basketValueNet  Purchase__says  \\\n",
       "0 2021-10-30 18:37:36.766                     75.86             NaN   \n",
       "1                     NaT                       NaN             NaN   \n",
       "2                     NaT                       NaN             NaN   \n",
       "3                     NaT                       NaN             NaN   \n",
       "4                     NaT                       NaN             NaN   \n",
       "\n",
       "  Purchase__storeName Purchase__storeFormat  \\\n",
       "0           SOUTHWARK            SuperStore   \n",
       "1                 NaN                   NaN   \n",
       "2                 NaN                   NaN   \n",
       "3                 NaN                   NaN   \n",
       "4                 NaN                   NaN   \n",
       "\n",
       "                             Purchase__product__name  \\\n",
       "0  Koko Dairy Free Unsweetened Alternative Longli...   \n",
       "1                   Tesco Bunched Spring Onions 100G   \n",
       "2  Tesco Finest Cheesecake Passion Fruit & Raspbe...   \n",
       "3              Tesco Mixed Sized Organic Eggs 6 Pack   \n",
       "4           Vanish Pet Expert Carpet Care Foam 600Ml   \n",
       "\n",
       "   Purchase__product__quantity Purchase__product__channel  \\\n",
       "0                          5.0                   IN_STORE   \n",
       "1                          1.0                   IN_STORE   \n",
       "2                          1.0                   IN_STORE   \n",
       "3                          1.0                   IN_STORE   \n",
       "4                          1.0                   IN_STORE   \n",
       "\n",
       "   Purchase__product__price  \n",
       "0                      1.50  \n",
       "1                      0.37  \n",
       "2                      4.00  \n",
       "3                      1.80  \n",
       "4                      6.00  "
      ]
     },
     "execution_count": 3,
     "metadata": {},
     "output_type": "execute_result"
    }
   ],
   "source": [
    "data.head()"
   ]
  },
  {
   "cell_type": "code",
   "execution_count": 4,
   "id": "ae2ca552",
   "metadata": {},
   "outputs": [
    {
     "name": "stdout",
     "output_type": "stream",
     "text": [
      "Purchase__basketValueGross\n",
      "Purchase__purchaseType\n",
      "Purchase__overallBasketSavings\n",
      "Purchase__storeId\n",
      "Purchase__paymentType__category\n",
      "Purchase__paymentType__amount\n",
      "Purchase__timeStamp\n",
      "Purchase__basketValueNet\n",
      "Purchase__says\n",
      "Purchase__storeName\n",
      "Purchase__storeFormat\n",
      "Purchase__product__name\n",
      "Purchase__product__quantity\n",
      "Purchase__product__channel\n",
      "Purchase__product__price\n"
     ]
    }
   ],
   "source": [
    "# Columns of the dataset:\n",
    "for col in data.columns:\n",
    "    print(col)"
   ]
  },
  {
   "cell_type": "code",
   "execution_count": 5,
   "id": "59fc3ee1",
   "metadata": {},
   "outputs": [
    {
     "data": {
      "text/plain": [
       "(444, 15)"
      ]
     },
     "execution_count": 5,
     "metadata": {},
     "output_type": "execute_result"
    }
   ],
   "source": [
    "data.shape"
   ]
  },
  {
   "cell_type": "markdown",
   "id": "e577e2c6",
   "metadata": {},
   "source": [
    "## Data Preprocessing :"
   ]
  },
  {
   "cell_type": "code",
   "execution_count": 6,
   "id": "233dc7cf",
   "metadata": {},
   "outputs": [
    {
     "data": {
      "text/plain": [
       "98"
      ]
     },
     "execution_count": 6,
     "metadata": {},
     "output_type": "execute_result"
    }
   ],
   "source": [
    "# Checking for Duplicates :\n",
    "data.duplicated().sum()"
   ]
  },
  {
   "cell_type": "code",
   "execution_count": 7,
   "id": "6698ac7a",
   "metadata": {},
   "outputs": [
    {
     "data": {
      "text/plain": [
       "0"
      ]
     },
     "execution_count": 7,
     "metadata": {},
     "output_type": "execute_result"
    }
   ],
   "source": [
    "# Removing duplicate entries :\n",
    "data.drop_duplicates(inplace=True)\n",
    "data.duplicated().sum()"
   ]
  },
  {
   "cell_type": "code",
   "execution_count": 8,
   "id": "517eb5c3",
   "metadata": {},
   "outputs": [
    {
     "data": {
      "text/plain": [
       "(346, 15)"
      ]
     },
     "execution_count": 8,
     "metadata": {},
     "output_type": "execute_result"
    }
   ],
   "source": [
    "data.shape"
   ]
  },
  {
   "cell_type": "code",
   "execution_count": 9,
   "id": "0eb52ec0",
   "metadata": {},
   "outputs": [
    {
     "data": {
      "text/html": [
       "<div>\n",
       "<style scoped>\n",
       "    .dataframe tbody tr th:only-of-type {\n",
       "        vertical-align: middle;\n",
       "    }\n",
       "\n",
       "    .dataframe tbody tr th {\n",
       "        vertical-align: top;\n",
       "    }\n",
       "\n",
       "    .dataframe thead th {\n",
       "        text-align: right;\n",
       "    }\n",
       "</style>\n",
       "<table border=\"1\" class=\"dataframe\">\n",
       "  <thead>\n",
       "    <tr style=\"text-align: right;\">\n",
       "      <th></th>\n",
       "      <th>Purchase__basketValueGross</th>\n",
       "      <th>Purchase__purchaseType</th>\n",
       "      <th>Purchase__overallBasketSavings</th>\n",
       "      <th>Purchase__storeId</th>\n",
       "      <th>Purchase__paymentType__category</th>\n",
       "      <th>Purchase__paymentType__amount</th>\n",
       "      <th>Purchase__timeStamp</th>\n",
       "      <th>Purchase__basketValueNet</th>\n",
       "      <th>Purchase__says</th>\n",
       "      <th>Purchase__storeName</th>\n",
       "      <th>Purchase__storeFormat</th>\n",
       "      <th>Purchase__product__name</th>\n",
       "      <th>Purchase__product__quantity</th>\n",
       "      <th>Purchase__product__channel</th>\n",
       "      <th>Purchase__product__price</th>\n",
       "    </tr>\n",
       "  </thead>\n",
       "  <tbody>\n",
       "    <tr>\n",
       "      <th>Null values</th>\n",
       "      <td>302.000000</td>\n",
       "      <td>303.000000</td>\n",
       "      <td>317.000000</td>\n",
       "      <td>303.000000</td>\n",
       "      <td>346.0</td>\n",
       "      <td>303.000000</td>\n",
       "      <td>303.000000</td>\n",
       "      <td>303.000000</td>\n",
       "      <td>346.0</td>\n",
       "      <td>303.000000</td>\n",
       "      <td>303.000000</td>\n",
       "      <td>1.000000</td>\n",
       "      <td>1.000000</td>\n",
       "      <td>1.000000</td>\n",
       "      <td>1.000000</td>\n",
       "    </tr>\n",
       "    <tr>\n",
       "      <th>% Null values</th>\n",
       "      <td>87.283237</td>\n",
       "      <td>87.572254</td>\n",
       "      <td>91.618497</td>\n",
       "      <td>87.572254</td>\n",
       "      <td>100.0</td>\n",
       "      <td>87.572254</td>\n",
       "      <td>87.572254</td>\n",
       "      <td>87.572254</td>\n",
       "      <td>100.0</td>\n",
       "      <td>87.572254</td>\n",
       "      <td>87.572254</td>\n",
       "      <td>0.289017</td>\n",
       "      <td>0.289017</td>\n",
       "      <td>0.289017</td>\n",
       "      <td>0.289017</td>\n",
       "    </tr>\n",
       "  </tbody>\n",
       "</table>\n",
       "</div>"
      ],
      "text/plain": [
       "               Purchase__basketValueGross  Purchase__purchaseType  \\\n",
       "Null values                    302.000000              303.000000   \n",
       "% Null values                   87.283237               87.572254   \n",
       "\n",
       "               Purchase__overallBasketSavings  Purchase__storeId  \\\n",
       "Null values                        317.000000         303.000000   \n",
       "% Null values                       91.618497          87.572254   \n",
       "\n",
       "               Purchase__paymentType__category  Purchase__paymentType__amount  \\\n",
       "Null values                              346.0                     303.000000   \n",
       "% Null values                            100.0                      87.572254   \n",
       "\n",
       "               Purchase__timeStamp  Purchase__basketValueNet  Purchase__says  \\\n",
       "Null values             303.000000                303.000000           346.0   \n",
       "% Null values            87.572254                 87.572254           100.0   \n",
       "\n",
       "               Purchase__storeName  Purchase__storeFormat  \\\n",
       "Null values             303.000000             303.000000   \n",
       "% Null values            87.572254              87.572254   \n",
       "\n",
       "               Purchase__product__name  Purchase__product__quantity  \\\n",
       "Null values                   1.000000                     1.000000   \n",
       "% Null values                 0.289017                     0.289017   \n",
       "\n",
       "               Purchase__product__channel  Purchase__product__price  \n",
       "Null values                      1.000000                  1.000000  \n",
       "% Null values                    0.289017                  0.289017  "
      ]
     },
     "execution_count": 9,
     "metadata": {},
     "output_type": "execute_result"
    }
   ],
   "source": [
    "# Checking for null values.\n",
    "info = pd.DataFrame(data=data.isnull().sum()).T.rename(index={0:'Null values'})\n",
    "info = info.append(pd.DataFrame(data=data.isnull().sum()/data.shape[0] * 100).T.rename(index={0:'% Null values'}))\n",
    "info"
   ]
  },
  {
   "cell_type": "markdown",
   "id": "104be19f",
   "metadata": {},
   "source": [
    "Here we can obseve the % of Null values for initial 11 columns. It all has maximum of NaN values. So it will be better to drop these.\n",
    "\n",
    "Max null columns:\n",
    "\n",
    "- Purchase__basketValueGross\n",
    "- Purchase__purchaseType\n",
    "- Purchase__overallBasketSavings\n",
    "- Purchase__storeId\n",
    "- Purchase__paymentType__category\n",
    "- Purchase__paymentType__amount\n",
    "- Purchase__timeStamp\n",
    "- Purchase__basketValueNet\n",
    "- Purchase__says\n",
    "- Purchase__storeName\n",
    "- Purchase__storeFormat"
   ]
  },
  {
   "cell_type": "code",
   "execution_count": 10,
   "id": "0b14a0bd",
   "metadata": {},
   "outputs": [],
   "source": [
    "data.drop(['Purchase__basketValueGross','Purchase__purchaseType','Purchase__overallBasketSavings','Purchase__storeId','Purchase__paymentType__category','Purchase__paymentType__amount','Purchase__timeStamp','Purchase__basketValueNet','Purchase__says','Purchase__storeName','Purchase__storeFormat'],axis=1, inplace=True)"
   ]
  },
  {
   "cell_type": "code",
   "execution_count": 11,
   "id": "e65009d8",
   "metadata": {},
   "outputs": [
    {
     "data": {
      "text/html": [
       "<div>\n",
       "<style scoped>\n",
       "    .dataframe tbody tr th:only-of-type {\n",
       "        vertical-align: middle;\n",
       "    }\n",
       "\n",
       "    .dataframe tbody tr th {\n",
       "        vertical-align: top;\n",
       "    }\n",
       "\n",
       "    .dataframe thead th {\n",
       "        text-align: right;\n",
       "    }\n",
       "</style>\n",
       "<table border=\"1\" class=\"dataframe\">\n",
       "  <thead>\n",
       "    <tr style=\"text-align: right;\">\n",
       "      <th></th>\n",
       "      <th>Purchase__product__name</th>\n",
       "      <th>Purchase__product__quantity</th>\n",
       "      <th>Purchase__product__channel</th>\n",
       "      <th>Purchase__product__price</th>\n",
       "    </tr>\n",
       "  </thead>\n",
       "  <tbody>\n",
       "    <tr>\n",
       "      <th>0</th>\n",
       "      <td>Koko Dairy Free Unsweetened Alternative Longli...</td>\n",
       "      <td>5.0</td>\n",
       "      <td>IN_STORE</td>\n",
       "      <td>1.50</td>\n",
       "    </tr>\n",
       "    <tr>\n",
       "      <th>1</th>\n",
       "      <td>Tesco Bunched Spring Onions 100G</td>\n",
       "      <td>1.0</td>\n",
       "      <td>IN_STORE</td>\n",
       "      <td>0.37</td>\n",
       "    </tr>\n",
       "    <tr>\n",
       "      <th>2</th>\n",
       "      <td>Tesco Finest Cheesecake Passion Fruit &amp; Raspbe...</td>\n",
       "      <td>1.0</td>\n",
       "      <td>IN_STORE</td>\n",
       "      <td>4.00</td>\n",
       "    </tr>\n",
       "    <tr>\n",
       "      <th>3</th>\n",
       "      <td>Tesco Mixed Sized Organic Eggs 6 Pack</td>\n",
       "      <td>1.0</td>\n",
       "      <td>IN_STORE</td>\n",
       "      <td>1.80</td>\n",
       "    </tr>\n",
       "    <tr>\n",
       "      <th>4</th>\n",
       "      <td>Vanish Pet Expert Carpet Care Foam 600Ml</td>\n",
       "      <td>1.0</td>\n",
       "      <td>IN_STORE</td>\n",
       "      <td>6.00</td>\n",
       "    </tr>\n",
       "  </tbody>\n",
       "</table>\n",
       "</div>"
      ],
      "text/plain": [
       "                             Purchase__product__name  \\\n",
       "0  Koko Dairy Free Unsweetened Alternative Longli...   \n",
       "1                   Tesco Bunched Spring Onions 100G   \n",
       "2  Tesco Finest Cheesecake Passion Fruit & Raspbe...   \n",
       "3              Tesco Mixed Sized Organic Eggs 6 Pack   \n",
       "4           Vanish Pet Expert Carpet Care Foam 600Ml   \n",
       "\n",
       "   Purchase__product__quantity Purchase__product__channel  \\\n",
       "0                          5.0                   IN_STORE   \n",
       "1                          1.0                   IN_STORE   \n",
       "2                          1.0                   IN_STORE   \n",
       "3                          1.0                   IN_STORE   \n",
       "4                          1.0                   IN_STORE   \n",
       "\n",
       "   Purchase__product__price  \n",
       "0                      1.50  \n",
       "1                      0.37  \n",
       "2                      4.00  \n",
       "3                      1.80  \n",
       "4                      6.00  "
      ]
     },
     "execution_count": 11,
     "metadata": {},
     "output_type": "execute_result"
    }
   ],
   "source": [
    "data.head()"
   ]
  },
  {
   "cell_type": "code",
   "execution_count": 12,
   "id": "acbe9bc9",
   "metadata": {},
   "outputs": [
    {
     "data": {
      "text/html": [
       "<div>\n",
       "<style scoped>\n",
       "    .dataframe tbody tr th:only-of-type {\n",
       "        vertical-align: middle;\n",
       "    }\n",
       "\n",
       "    .dataframe tbody tr th {\n",
       "        vertical-align: top;\n",
       "    }\n",
       "\n",
       "    .dataframe thead th {\n",
       "        text-align: right;\n",
       "    }\n",
       "</style>\n",
       "<table border=\"1\" class=\"dataframe\">\n",
       "  <thead>\n",
       "    <tr style=\"text-align: right;\">\n",
       "      <th></th>\n",
       "      <th>Purchase__product__name</th>\n",
       "      <th>Purchase__product__quantity</th>\n",
       "      <th>Purchase__product__channel</th>\n",
       "      <th>Purchase__product__price</th>\n",
       "    </tr>\n",
       "  </thead>\n",
       "  <tbody>\n",
       "    <tr>\n",
       "      <th>Null values</th>\n",
       "      <td>1.000000</td>\n",
       "      <td>1.000000</td>\n",
       "      <td>1.000000</td>\n",
       "      <td>1.000000</td>\n",
       "    </tr>\n",
       "    <tr>\n",
       "      <th>% Null values</th>\n",
       "      <td>0.289017</td>\n",
       "      <td>0.289017</td>\n",
       "      <td>0.289017</td>\n",
       "      <td>0.289017</td>\n",
       "    </tr>\n",
       "  </tbody>\n",
       "</table>\n",
       "</div>"
      ],
      "text/plain": [
       "               Purchase__product__name  Purchase__product__quantity  \\\n",
       "Null values                   1.000000                     1.000000   \n",
       "% Null values                 0.289017                     0.289017   \n",
       "\n",
       "               Purchase__product__channel  Purchase__product__price  \n",
       "Null values                      1.000000                  1.000000  \n",
       "% Null values                    0.289017                  0.289017  "
      ]
     },
     "execution_count": 12,
     "metadata": {},
     "output_type": "execute_result"
    }
   ],
   "source": [
    "# Checking for null values.\n",
    "info = pd.DataFrame(data=data.isnull().sum()).T.rename(index={0:'Null values'})\n",
    "info = info.append(pd.DataFrame(data=data.isnull().sum()/data.shape[0] * 100).T.rename(index={0:'% Null values'}))\n",
    "info"
   ]
  },
  {
   "cell_type": "code",
   "execution_count": 13,
   "id": "418b3efd",
   "metadata": {},
   "outputs": [],
   "source": [
    "data.dropna(axis=0, subset = ['Purchase__product__name'], inplace=True)"
   ]
  },
  {
   "cell_type": "code",
   "execution_count": 14,
   "id": "7f9f8316",
   "metadata": {
    "scrolled": true
   },
   "outputs": [
    {
     "data": {
      "text/html": [
       "<div>\n",
       "<style scoped>\n",
       "    .dataframe tbody tr th:only-of-type {\n",
       "        vertical-align: middle;\n",
       "    }\n",
       "\n",
       "    .dataframe tbody tr th {\n",
       "        vertical-align: top;\n",
       "    }\n",
       "\n",
       "    .dataframe thead th {\n",
       "        text-align: right;\n",
       "    }\n",
       "</style>\n",
       "<table border=\"1\" class=\"dataframe\">\n",
       "  <thead>\n",
       "    <tr style=\"text-align: right;\">\n",
       "      <th></th>\n",
       "      <th>Purchase__product__name</th>\n",
       "      <th>Purchase__product__quantity</th>\n",
       "      <th>Purchase__product__channel</th>\n",
       "      <th>Purchase__product__price</th>\n",
       "    </tr>\n",
       "  </thead>\n",
       "  <tbody>\n",
       "    <tr>\n",
       "      <th>Null values</th>\n",
       "      <td>0.0</td>\n",
       "      <td>0.0</td>\n",
       "      <td>0.0</td>\n",
       "      <td>0.0</td>\n",
       "    </tr>\n",
       "    <tr>\n",
       "      <th>% Null values</th>\n",
       "      <td>0.0</td>\n",
       "      <td>0.0</td>\n",
       "      <td>0.0</td>\n",
       "      <td>0.0</td>\n",
       "    </tr>\n",
       "  </tbody>\n",
       "</table>\n",
       "</div>"
      ],
      "text/plain": [
       "               Purchase__product__name  Purchase__product__quantity  \\\n",
       "Null values                        0.0                          0.0   \n",
       "% Null values                      0.0                          0.0   \n",
       "\n",
       "               Purchase__product__channel  Purchase__product__price  \n",
       "Null values                           0.0                       0.0  \n",
       "% Null values                         0.0                       0.0  "
      ]
     },
     "execution_count": 14,
     "metadata": {},
     "output_type": "execute_result"
    }
   ],
   "source": [
    "# Checking for null values.\n",
    "info = pd.DataFrame(data=data.isnull().sum()).T.rename(index={0:'Null values'})\n",
    "info = info.append(pd.DataFrame(data=data.isnull().sum()/data.shape[0] * 100).T.rename(index={0:'% Null values'}))\n",
    "info"
   ]
  },
  {
   "cell_type": "code",
   "execution_count": 15,
   "id": "5ed103a3",
   "metadata": {},
   "outputs": [
    {
     "name": "stdout",
     "output_type": "stream",
     "text": [
      "(345, 4)\n"
     ]
    },
    {
     "data": {
      "text/html": [
       "<div>\n",
       "<style scoped>\n",
       "    .dataframe tbody tr th:only-of-type {\n",
       "        vertical-align: middle;\n",
       "    }\n",
       "\n",
       "    .dataframe tbody tr th {\n",
       "        vertical-align: top;\n",
       "    }\n",
       "\n",
       "    .dataframe thead th {\n",
       "        text-align: right;\n",
       "    }\n",
       "</style>\n",
       "<table border=\"1\" class=\"dataframe\">\n",
       "  <thead>\n",
       "    <tr style=\"text-align: right;\">\n",
       "      <th></th>\n",
       "      <th>Purchase__product__name</th>\n",
       "      <th>Purchase__product__quantity</th>\n",
       "      <th>Purchase__product__channel</th>\n",
       "      <th>Purchase__product__price</th>\n",
       "    </tr>\n",
       "  </thead>\n",
       "  <tbody>\n",
       "    <tr>\n",
       "      <th>0</th>\n",
       "      <td>Koko Dairy Free Unsweetened Alternative Longli...</td>\n",
       "      <td>5.0</td>\n",
       "      <td>IN_STORE</td>\n",
       "      <td>1.50</td>\n",
       "    </tr>\n",
       "    <tr>\n",
       "      <th>1</th>\n",
       "      <td>Tesco Bunched Spring Onions 100G</td>\n",
       "      <td>1.0</td>\n",
       "      <td>IN_STORE</td>\n",
       "      <td>0.37</td>\n",
       "    </tr>\n",
       "    <tr>\n",
       "      <th>2</th>\n",
       "      <td>Tesco Finest Cheesecake Passion Fruit &amp; Raspbe...</td>\n",
       "      <td>1.0</td>\n",
       "      <td>IN_STORE</td>\n",
       "      <td>4.00</td>\n",
       "    </tr>\n",
       "    <tr>\n",
       "      <th>3</th>\n",
       "      <td>Tesco Mixed Sized Organic Eggs 6 Pack</td>\n",
       "      <td>1.0</td>\n",
       "      <td>IN_STORE</td>\n",
       "      <td>1.80</td>\n",
       "    </tr>\n",
       "    <tr>\n",
       "      <th>4</th>\n",
       "      <td>Vanish Pet Expert Carpet Care Foam 600Ml</td>\n",
       "      <td>1.0</td>\n",
       "      <td>IN_STORE</td>\n",
       "      <td>6.00</td>\n",
       "    </tr>\n",
       "  </tbody>\n",
       "</table>\n",
       "</div>"
      ],
      "text/plain": [
       "                             Purchase__product__name  \\\n",
       "0  Koko Dairy Free Unsweetened Alternative Longli...   \n",
       "1                   Tesco Bunched Spring Onions 100G   \n",
       "2  Tesco Finest Cheesecake Passion Fruit & Raspbe...   \n",
       "3              Tesco Mixed Sized Organic Eggs 6 Pack   \n",
       "4           Vanish Pet Expert Carpet Care Foam 600Ml   \n",
       "\n",
       "   Purchase__product__quantity Purchase__product__channel  \\\n",
       "0                          5.0                   IN_STORE   \n",
       "1                          1.0                   IN_STORE   \n",
       "2                          1.0                   IN_STORE   \n",
       "3                          1.0                   IN_STORE   \n",
       "4                          1.0                   IN_STORE   \n",
       "\n",
       "   Purchase__product__price  \n",
       "0                      1.50  \n",
       "1                      0.37  \n",
       "2                      4.00  \n",
       "3                      1.80  \n",
       "4                      6.00  "
      ]
     },
     "execution_count": 15,
     "metadata": {},
     "output_type": "execute_result"
    }
   ],
   "source": [
    "print(data.shape)\n",
    "data.head()"
   ]
  },
  {
   "cell_type": "code",
   "execution_count": 16,
   "id": "cd09841c",
   "metadata": {},
   "outputs": [],
   "source": [
    "backup_cleaned_data=data.copy()"
   ]
  },
  {
   "cell_type": "code",
   "execution_count": 17,
   "id": "8e3b55b5",
   "metadata": {},
   "outputs": [
    {
     "data": {
      "text/html": [
       "<div>\n",
       "<style scoped>\n",
       "    .dataframe tbody tr th:only-of-type {\n",
       "        vertical-align: middle;\n",
       "    }\n",
       "\n",
       "    .dataframe tbody tr th {\n",
       "        vertical-align: top;\n",
       "    }\n",
       "\n",
       "    .dataframe thead th {\n",
       "        text-align: right;\n",
       "    }\n",
       "</style>\n",
       "<table border=\"1\" class=\"dataframe\">\n",
       "  <thead>\n",
       "    <tr style=\"text-align: right;\">\n",
       "      <th></th>\n",
       "      <th>Purchase__product__name</th>\n",
       "      <th>Purchase__product__quantity</th>\n",
       "      <th>Purchase__product__channel</th>\n",
       "      <th>Purchase__product__price</th>\n",
       "      <th>Company</th>\n",
       "    </tr>\n",
       "  </thead>\n",
       "  <tbody>\n",
       "    <tr>\n",
       "      <th>0</th>\n",
       "      <td>Koko Dairy Free Unsweetened Alternative Longli...</td>\n",
       "      <td>5.0</td>\n",
       "      <td>IN_STORE</td>\n",
       "      <td>1.50</td>\n",
       "      <td>Koko</td>\n",
       "    </tr>\n",
       "    <tr>\n",
       "      <th>1</th>\n",
       "      <td>Tesco Bunched Spring Onions 100G</td>\n",
       "      <td>1.0</td>\n",
       "      <td>IN_STORE</td>\n",
       "      <td>0.37</td>\n",
       "      <td>Tesco</td>\n",
       "    </tr>\n",
       "    <tr>\n",
       "      <th>2</th>\n",
       "      <td>Tesco Finest Cheesecake Passion Fruit &amp; Raspbe...</td>\n",
       "      <td>1.0</td>\n",
       "      <td>IN_STORE</td>\n",
       "      <td>4.00</td>\n",
       "      <td>Tesco</td>\n",
       "    </tr>\n",
       "    <tr>\n",
       "      <th>3</th>\n",
       "      <td>Tesco Mixed Sized Organic Eggs 6 Pack</td>\n",
       "      <td>1.0</td>\n",
       "      <td>IN_STORE</td>\n",
       "      <td>1.80</td>\n",
       "      <td>Tesco</td>\n",
       "    </tr>\n",
       "    <tr>\n",
       "      <th>4</th>\n",
       "      <td>Vanish Pet Expert Carpet Care Foam 600Ml</td>\n",
       "      <td>1.0</td>\n",
       "      <td>IN_STORE</td>\n",
       "      <td>6.00</td>\n",
       "      <td>Vanish</td>\n",
       "    </tr>\n",
       "  </tbody>\n",
       "</table>\n",
       "</div>"
      ],
      "text/plain": [
       "                             Purchase__product__name  \\\n",
       "0  Koko Dairy Free Unsweetened Alternative Longli...   \n",
       "1                   Tesco Bunched Spring Onions 100G   \n",
       "2  Tesco Finest Cheesecake Passion Fruit & Raspbe...   \n",
       "3              Tesco Mixed Sized Organic Eggs 6 Pack   \n",
       "4           Vanish Pet Expert Carpet Care Foam 600Ml   \n",
       "\n",
       "   Purchase__product__quantity Purchase__product__channel  \\\n",
       "0                          5.0                   IN_STORE   \n",
       "1                          1.0                   IN_STORE   \n",
       "2                          1.0                   IN_STORE   \n",
       "3                          1.0                   IN_STORE   \n",
       "4                          1.0                   IN_STORE   \n",
       "\n",
       "   Purchase__product__price Company  \n",
       "0                      1.50    Koko  \n",
       "1                      0.37   Tesco  \n",
       "2                      4.00   Tesco  \n",
       "3                      1.80   Tesco  \n",
       "4                      6.00  Vanish  "
      ]
     },
     "execution_count": 17,
     "metadata": {},
     "output_type": "execute_result"
    }
   ],
   "source": [
    "data['Company']=data['Purchase__product__name'].str.split(\" \").str.slice(0,1).str.join(' ')\n",
    "data.head()"
   ]
  },
  {
   "cell_type": "markdown",
   "id": "276a7d92",
   "metadata": {},
   "source": [
    "## Exploratory Data Analysis :"
   ]
  },
  {
   "cell_type": "code",
   "execution_count": 18,
   "id": "92aac0a1",
   "metadata": {},
   "outputs": [
    {
     "data": {
      "text/plain": [
       "<AxesSubplot:xlabel='Purchase__product__quantity', ylabel='count'>"
      ]
     },
     "execution_count": 18,
     "metadata": {},
     "output_type": "execute_result"
    },
    {
     "data": {
      "image/png": "[encoded data removed]",
      "text/plain": [
       "<Figure size 432x288 with 1 Axes>"
      ]
     },
     "metadata": {
      "needs_background": "light"
     },
     "output_type": "display_data"
    }
   ],
   "source": [
    "sns.countplot(data['Purchase__product__quantity'])"
   ]
  },
  {
   "cell_type": "code",
   "execution_count": 19,
   "id": "28d3e631",
   "metadata": {},
   "outputs": [
    {
     "data": {
      "text/plain": [
       "<AxesSubplot:xlabel='Purchase__product__price', ylabel='count'>"
      ]
     },
     "execution_count": 19,
     "metadata": {},
     "output_type": "execute_result"
    },
    {
     "data": {
      "image/png": "[encoded data removed]",
      "text/plain": [
       "<Figure size 432x288 with 1 Axes>"
      ]
     },
     "metadata": {
      "needs_background": "light"
     },
     "output_type": "display_data"
    }
   ],
   "source": [
    "sns.countplot(data['Purchase__product__price'])"
   ]
  },
  {
   "cell_type": "code",
   "execution_count": 20,
   "id": "1a782e7a",
   "metadata": {},
   "outputs": [
    {
     "data": {
      "text/plain": [
       "array(['Koko', 'Tesco', 'Vanish', 'Gressingham', 'Highland', 'Finest',\n",
       "       'Kikkoman', 'T.Kent', 'Good', 'Califia', 'Little', 'Thorntons',\n",
       "       'Bahlsen', 'Nivea', 'Swizzels', 'Galaxy', 'Klc', 'Cadbury',\n",
       "       'Jaffa', 'Mowi', 'Twinings', \"Twining's\", 'Falfish', 'Fresh',\n",
       "       'Total', 'Haribo', 'Alpro', 'Linda', 'Mancave', 'Method', 'Buxton',\n",
       "       'Glade', 'Princes', 'UNLEADED', 'Off', 'Botanica', 'Willow',\n",
       "       'Malcolm', 'Grahams', 'Bells', 'Mackies', 'Galbani', 'Simon',\n",
       "       'Counter', 'Nightingale', 'Mothers', 'Rosedene', 'Mackie',\n",
       "       'T.Ready', 'Kettle', 'Nescafe', 'Rr', 'Kleinkaroo', 'Deli',\n",
       "       'Happy', 'The', 'Tarbert', 'Gu', 'Sunpat', 'T.Ripe', 'Buckwud',\n",
       "       'Perfectly', 'Lavazza', 'Suntrail', 'Ecover', 'Hoads', 'Pedigree',\n",
       "       'Yamas', 'Green', 'Cirio', 'Kingfisher', 'Alberto', 'Rocket',\n",
       "       'San', 'Pot', 'Light', 'Graze', 'Philadelphia', 'Arla',\n",
       "       'Batchelors', 'Nongshim', 'Thai', 'Birds', 'Mccain', 'Oatly',\n",
       "       'Schwartz', 'Korean', 'Boursin', 'Wilkinson', 'E.Wedel',\n",
       "       'Menissez', 'St', 'Napolina', \"Bell's\", \"Duncan's\", 'Filippo',\n",
       "       'Scotty', 'Doritos', 'Domestos', 'Warburtons', 'President',\n",
       "       'Felix', 'Dreamies', 'S.Pellegrino', 'Gu-Zillionaire', 'Loose',\n",
       "       'Mcvities', \"Eastman's\", 'Sharwoods', 'Big', 'Yutaka', 'La', 'Gem',\n",
       "       'De', 'Itsu', \"Mcvitie's\", 'Kraft', 'Elmlea'], dtype=object)"
      ]
     },
     "execution_count": 20,
     "metadata": {},
     "output_type": "execute_result"
    }
   ],
   "source": [
    "data['Company'].unique()"
   ]
  },
  {
   "cell_type": "code",
   "execution_count": 21,
   "id": "8e989b90",
   "metadata": {},
   "outputs": [
    {
     "data": {
      "text/plain": [
       "<AxesSubplot:xlabel='Company', ylabel='count'>"
      ]
     },
     "execution_count": 21,
     "metadata": {},
     "output_type": "execute_result"
    },
    {
     "data": {
      "image/png": "[encoded data removed]",
      "text/plain": [
       "<Figure size 432x288 with 1 Axes>"
      ]
     },
     "metadata": {
      "needs_background": "light"
     },
     "output_type": "display_data"
    }
   ],
   "source": [
    "sns.countplot(data['Company'])"
   ]
  },
  {
   "cell_type": "code",
   "execution_count": 22,
   "id": "1b860313",
   "metadata": {},
   "outputs": [
    {
     "data": {
      "text/plain": [
       "Tesco       146\n",
       "Highland      9\n",
       "UNLEADED      9\n",
       "Cadbury       8\n",
       "Nescafe       6\n",
       "           ... \n",
       "Bell's        1\n",
       "Falfish       1\n",
       "Total         1\n",
       "T.Ready       1\n",
       "Glade         1\n",
       "Name: Company, Length: 118, dtype: int64"
      ]
     },
     "execution_count": 22,
     "metadata": {},
     "output_type": "execute_result"
    }
   ],
   "source": [
    "data['Company'].value_counts()"
   ]
  },
  {
   "cell_type": "markdown",
   "id": "b644abf6",
   "metadata": {},
   "source": [
    "# Observation:"
   ]
  },
  {
   "cell_type": "markdown",
   "id": "7f272228",
   "metadata": {},
   "source": [
    "- The customer is more interested in buying Tesco company products.\n",
    "- It would be better to suggest him more different products of Tesco\n",
    "- So that he can buy it more."
   ]
  }
 ],
 "metadata": {
  "kernelspec": {
   "display_name": "Python 3",
   "language": "python",
   "name": "python3"
  },
  "language_info": {
   "codemirror_mode": {
    "name": "ipython",
    "version": 3
   },
   "file_extension": ".py",
   "mimetype": "text/x-python",
   "name": "python",
   "nbconvert_exporter": "python",
   "pygments_lexer": "ipython3",
   "version": "3.8.8"
  }
 },
 "nbformat": 4,
 "nbformat_minor": 5
}
